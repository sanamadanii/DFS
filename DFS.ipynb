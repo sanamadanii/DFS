{
 "cells": [
  {
   "cell_type": "code",
   "execution_count": 3,
   "metadata": {},
   "outputs": [],
   "source": [
    "import numpy as np "
   ]
  },
  {
   "cell_type": "code",
   "execution_count": 4,
   "metadata": {},
   "outputs": [
    {
     "name": "stdout",
     "output_type": "stream",
     "text": [
      "[[1, 2], [3, 4], [7, 8], [], [5, 6], [], [], [], []]\n"
     ]
    }
   ],
   "source": [
    "AdjacencyList= [[1,2],[3,4],[7,8],[],[5,6],[],[],[],[]]\n",
    "print(AdjacencyList)"
   ]
  },
  {
   "cell_type": "code",
   "execution_count": 5,
   "metadata": {},
   "outputs": [],
   "source": [
    "def admissable(index,markedList,AdjacencyList):\n",
    "    for i in AdjacencyList[index]:\n",
    "        if not markedList[i]:\n",
    "            return True , i \n",
    "    return False,0"
   ]
  },
  {
   "cell_type": "code",
   "execution_count": 6,
   "metadata": {},
   "outputs": [],
   "source": [
    "def DFS(startedNode,AdjacencyList):\n",
    "    adjSize=len(AdjacencyList)\n",
    "   \n",
    "    markedNodes=np.zeros((adjSize),dtype=bool)\n",
    "    pred=np.zeros((adjSize)) \n",
    "    order =np.zeros((adjSize))\n",
    "    List =[]\n",
    "    cntr=1\n",
    "    pred[0]=-1\n",
    "    order[startedNode]= cntr\n",
    "    markedNodes[startedNode]=True \n",
    "    List.append(startedNode)\n",
    "    while List:\n",
    "    \n",
    "        Size=len(List)\n",
    "        index= List[Size-1]\n",
    "        cureentNode , currentIndex = admissable(index,markedNodes,AdjacencyList)\n",
    "        print(cureentNode)\n",
    "     \n",
    "        if cureentNode:\n",
    "            pred[currentIndex]=index\n",
    "            markedNodes[currentIndex]= True \n",
    "            cntr+=1\n",
    "            order[currentIndex]=cntr\n",
    "            List.append(currentIndex)\n",
    "        else:\n",
    "            anSize=len(List)\n",
    "            \n",
    "            List.pop(anSize-1)\n",
    "    return pred,order,markedNodes       "
   ]
  },
  {
   "cell_type": "code",
   "execution_count": 7,
   "metadata": {},
   "outputs": [
    {
     "name": "stdout",
     "output_type": "stream",
     "text": [
      "True\n",
      "True\n",
      "False\n",
      "True\n",
      "True\n",
      "False\n",
      "True\n",
      "False\n",
      "False\n",
      "False\n",
      "True\n",
      "True\n",
      "False\n",
      "True\n",
      "False\n",
      "False\n",
      "False\n"
     ]
    },
    {
     "data": {
      "text/plain": [
       "(array([-1.,  0.,  0.,  1.,  1.,  4.,  4.,  2.,  2.]),\n",
       " array([1., 2., 7., 3., 4., 5., 6., 8., 9.]),\n",
       " array([ True,  True,  True,  True,  True,  True,  True,  True,  True]))"
      ]
     },
     "execution_count": 7,
     "metadata": {},
     "output_type": "execute_result"
    }
   ],
   "source": [
    "DFS(0,AdjacencyList)\n",
    " "
   ]
  },
  {
   "cell_type": "code",
   "execution_count": null,
   "metadata": {},
   "outputs": [],
   "source": []
  }
 ],
 "metadata": {
  "kernelspec": {
   "display_name": "Python 3",
   "language": "python",
   "name": "python3"
  },
  "language_info": {
   "codemirror_mode": {
    "name": "ipython",
    "version": 3
   },
   "file_extension": ".py",
   "mimetype": "text/x-python",
   "name": "python",
   "nbconvert_exporter": "python",
   "pygments_lexer": "ipython3",
   "version": "3.6.4"
  }
 },
 "nbformat": 4,
 "nbformat_minor": 2
}
